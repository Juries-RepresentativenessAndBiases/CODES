{
 "cells": [
  {
   "cell_type": "markdown",
   "metadata": {},
   "source": [
    "1. Obtaining $t$ via Newton's Method (method to solve numerically a one variable equation) and Eq.(3) having substituted theta from Eq.(1)"
   ]
  },
  {
   "cell_type": "code",
   "execution_count": 1,
   "metadata": {},
   "outputs": [
    {
     "data": {
      "text/plain": [
       "2.91351963099215"
      ]
     },
     "execution_count": 1,
     "metadata": {},
     "output_type": "execute_result"
    }
   ],
   "source": [
    "#Defining variables\n",
    "x = var('x')\n",
    "k = var('k')\n",
    "b = 0.07531865  #\\gamma_{12,5} overall value (found through data) \n",
    "B = 0.61410382  #\\Gamma_{12,5} oberall value (found through data)\n",
    "a = 10^(-6)     #tolerance of error\n",
    "n_iter = 10^6   #number of iterations in the numeric method\n",
    "\n",
    "\n",
    "#Defining intermediate sums and the function f, of which we need to solve f(t)=0\n",
    "sum1 = sum(binomial(12,k)*(x^(12-k)/(1+x)^12),k, 0, 5)\n",
    "sum2 = sum(binomial(12,k)*(x^(k)/(1+x)^12), k, 0, 5)\n",
    "\n",
    "f_expr = (b*(1+x)^11/(x^5*(x-1)*binomial(12,5)) - 1/(x^2-1)) *sum1 \\\n",
    "       + (-b*(1+x)^11/(x^5*(x-1)*binomial(12,5)) + x^2/(x^2-1)) *sum2 - B\n",
    "\n",
    "f = fast_callable(f_expr, vars=[x], domain=RR)  #fast_callable function allows to evaluate \\\n",
    "                                                #numerically in a more efficiently than represetation \n",
    "fdiff = fast_callable(diff(f_expr, x), vars=[x], domain=RR)\n",
    "\n",
    "\n",
    "#Defining general Newton's method function\n",
    "def newton(f, fdiff, x0, a, n_iter):\n",
    "    x = x0\n",
    "    for i in srange(0, n_iter):\n",
    "        x_new = x - f(x)/fdiff(x)\n",
    "        if abs(x_new - x) <= a:\n",
    "            return x_new\n",
    "        else:\n",
    "            x = x_new\n",
    "    return x\n",
    "\n",
    "\n",
    "#Finding root t\n",
    "x0 = 1.5        #seed to start the numeric method\n",
    "t = newton(f, fdiff, x0, a, n_iter)\n",
    "t"
   ]
  },
  {
   "cell_type": "code",
   "execution_count": 2,
   "metadata": {},
   "outputs": [
    {
     "data": {
      "text/plain": [
       "2.91351963099238"
      ]
     },
     "execution_count": 2,
     "metadata": {},
     "output_type": "execute_result"
    }
   ],
   "source": [
    "#Finding root t with a new seed\n",
    "x0 = 3\n",
    "t = newton(f, fdiff, x0, a, n_iter)\n",
    "t"
   ]
  },
  {
   "cell_type": "code",
   "execution_count": 3,
   "metadata": {},
   "outputs": [
    {
     "data": {
      "text/plain": [
       "2.91351963099215"
      ]
     },
     "execution_count": 3,
     "metadata": {},
     "output_type": "execute_result"
    }
   ],
   "source": [
    "#Finding root t with upgraded precision\n",
    "a = 10^(-7)\n",
    "n_iter = 10^7\n",
    "x0 = 3\n",
    "t = newton(f, fdiff, x0, a, n_iter)\n",
    "t"
   ]
  },
  {
   "cell_type": "code",
   "execution_count": 4,
   "metadata": {},
   "outputs": [
    {
     "data": {
      "text/plain": [
       "2.91351963099215"
      ]
     },
     "execution_count": 4,
     "metadata": {},
     "output_type": "execute_result"
    }
   ],
   "source": [
    "#Checking any other possible roots near t=1 (remember our root satisfies t>1)\n",
    "a = 10^(-7)\n",
    "n_iter = 10^7\n",
    "x0 = 1.001      #(x0 = 1) throws a division by 0\n",
    "t = newton(f, fdiff, x0, a, n_iter)\n",
    "t"
   ]
  },
  {
   "cell_type": "code",
   "execution_count": 5,
   "metadata": {},
   "outputs": [
    {
     "name": "stdout",
     "output_type": "stream",
     "text": [
      "2.91351963099215\n",
      "2.91351963099225\n",
      "2.91351963099215\n",
      "2.91351963099215\n",
      "2.91351963099215\n",
      "2.91351963099215\n",
      "2.91351963099215\n",
      "2.91351963099215\n",
      "2.91351963099215\n"
     ]
    }
   ],
   "source": [
    "#Checking any other possible roots positively further from t=2.913596...\n",
    "a = 10^(-6)\n",
    "n_iter = 10^6\n",
    "for i in srange(1, 10):\n",
    "    x0 = 10^i\n",
    "    t = newton(f, fdiff, x0, a, n_iter)\n",
    "    print(t)"
   ]
  },
  {
   "cell_type": "code",
   "execution_count": 6,
   "metadata": {},
   "outputs": [],
   "source": [
    "#This means that in the range [1,10^9] we only find one root to our function.\n",
    "#Note that t>10^9 would imply mu-->1^{-} (mu practically equal to 1), which \\\n",
    "#is not realistically possible."
   ]
  },
  {
   "cell_type": "markdown",
   "metadata": {},
   "source": [
    "2. Defining a specific Newton's method for our function $f$ and checking it with the found value of $t$"
   ]
  },
  {
   "cell_type": "code",
   "execution_count": 7,
   "metadata": {},
   "outputs": [],
   "source": [
    "#Defining Newton's method function specifically for our task (to change b and B too)\n",
    "reset()\n",
    "\n",
    "def newton_t(b, B, x0, a, n_iter):\n",
    "    x = var('x')\n",
    "    k = var('k')\n",
    "    sum1 = sum(binomial(12,k)*(x^(12-k)/(1+x)^12),k, 0, 5)\n",
    "    sum2 = sum(binomial(12,k)*(x^(k)/(1+x)^12), k, 0, 5)\n",
    "    f_expr = (b*(1+x)^11/(x^5*(x-1)*binomial(12,5)) - 1/(x^2-1)) *sum1 \\\n",
    "       + (-b*(1+x)^11/(x^5*(x-1)*binomial(12,5)) + x^2/(x^2-1)) *sum2 - B\n",
    "    f = fast_callable(f_expr, vars=[x], domain=RR)\n",
    "    fdiff = fast_callable(diff(f_expr, x), vars=[x], domain=RR)\n",
    "    \n",
    "    x = x0\n",
    "    for i in srange(0, n_iter):\n",
    "        x_new = x - f(x)/fdiff(x)\n",
    "        if abs(x_new - x) <= a:\n",
    "            return (i, x_new)  #to know the number of iterations needed\n",
    "        else:\n",
    "            x = x_new\n",
    "    return x"
   ]
  },
  {
   "cell_type": "code",
   "execution_count": 8,
   "metadata": {},
   "outputs": [
    {
     "name": "stdout",
     "output_type": "stream",
     "text": [
      "(2, 2.91351963099238)\n"
     ]
    }
   ],
   "source": [
    "#Checking the already found value with the specific method\n",
    "b = 0.07531865\n",
    "B = 0.61410382  \n",
    "x0 = 3\n",
    "a = 10^(-6)     \n",
    "n_iter = 10^6\n",
    "print(newton_t(b, B, x0, a, n_iter))"
   ]
  },
  {
   "cell_type": "code",
   "execution_count": 9,
   "metadata": {},
   "outputs": [
    {
     "name": "stdout",
     "output_type": "stream",
     "text": [
      "(4, 2.91351963099215)\n"
     ]
    }
   ],
   "source": [
    "#Upgrading tolerance since the number of iterations done is tiny\n",
    "a = 10^(-15)     \n",
    "n_iter = 10^6\n",
    "print(newton_t(b, B, x0, a, n_iter))"
   ]
  },
  {
   "cell_type": "markdown",
   "metadata": {},
   "source": [
    "3. Finding $\\theta$, $\\mu$, $p_{12,5}$ and $P_{12,5}$ values from the obtained $t$"
   ]
  },
  {
   "cell_type": "code",
   "execution_count": 11,
   "metadata": {},
   "outputs": [
    {
     "data": {
      "text/plain": [
       "(0.744475537549180, 0.647187332212810, 0.939654294656448, 0.990742276539118)"
      ]
     },
     "execution_count": 11,
     "metadata": {},
     "output_type": "execute_result"
    }
   ],
   "source": [
    "t = newton_t(b, B, x0, a, n_iter)[1]\n",
    "\n",
    "mu = t/(1+t)\n",
    "tht = (b*(1+t)^11/(t^5*(t-1)*binomial(12,5)) - 1/(t^2-1))\n",
    "\n",
    "n = 12; i = 5    #jury size and number of votes for acquittal\n",
    "m = n-2*i        #majority size\n",
    "p = tht*t^m/(tht*t^m + 1-tht)\n",
    "\n",
    "k = var('k')\n",
    "U = sum(binomial(n,k)*mu^(n-k)*(1-mu)^k, k, 0, i) \n",
    "V = sum(binomial(n,k)*mu^k*(1-mu)^(n-k), k, 0, i)\n",
    "P = tht*U/(tht*U + (1-tht)*V)\n",
    "\n",
    "mu, tht, p, P"
   ]
  },
  {
   "cell_type": "markdown",
   "metadata": {},
   "source": [
    "4. Obtaining the $t$, $\\mu$, $\\theta$, $p_{12,5}$ and $P_{12,5}$ values for all the other cases (different $b$ and $B$ obtained from data)"
   ]
  },
  {
   "cell_type": "code",
   "execution_count": 12,
   "metadata": {},
   "outputs": [],
   "source": [
    "#Defining a function that calculates t, mu, tht, p and P (to avoid repeating code)\n",
    "def table5_data(b, B, x0, a, n_iter, n, i):\n",
    "    t = newton_t(b, B, x0, a, n)[1]\n",
    "    \n",
    "    mu = t/(1+t)\n",
    "    tht = (b*(1+t)^11/(t^5*(t-1)*binomial(12,5)) - 1/(t^2-1))\n",
    "    \n",
    "    m = n-2*i\n",
    "    p = tht*t^m/(tht*t^m + 1-tht)\n",
    "    \n",
    "    k = var('k')\n",
    "    U = sum(binomial(n,k)*mu^(n-k)*(1-mu)^k, k, 0, i) \n",
    "    V = sum(binomial(n,k)*mu^k*(1-mu)^(n-k), k, 0, i)\n",
    "    P = tht*U/(tht*U + (1-tht)*V)\n",
    "    \n",
    "    return (t, mu, tht, p, P)\n",
    "\n",
    "#Defining the variables that will have the same value throughout all cases\n",
    "x0 = 3\n",
    "a = 10^(-10)\n",
    "n_iter = 10^6\n",
    "n = 12\n",
    "i = 5"
   ]
  },
  {
   "cell_type": "code",
   "execution_count": 13,
   "metadata": {},
   "outputs": [
    {
     "name": "stdout",
     "output_type": "stream",
     "text": [
      "(2.91351963099215, 0.744475537549180, 0.647187332212810, 0.939654294656448, 0.990742276539118)\n",
      "(2.99052945033501, 0.749406685893259, 0.644393483236283, 0.941880961283254, 0.991635780330658)\n"
     ]
    }
   ],
   "source": [
    "#Overall\n",
    "   #With Gamma_{12,4} estimation from 1831 data:\n",
    "b = 0.07531865\n",
    "B = 0.61410382\n",
    "print(table5_data(b, B, x0, a, n_iter, n, i))\n",
    "\n",
    "    #With Gamma_{12,4} estimation from number of trials with conviction of 7 to 5/number of total trials from 1826 to 1830:\n",
    "b = 0.071080528\n",
    "print(table5_data(b, B, x0, a, n_iter, n, i))"
   ]
  },
  {
   "cell_type": "code",
   "execution_count": 14,
   "metadata": {},
   "outputs": [
    {
     "data": {
      "text/plain": [
       "(2.04930960175120,\n",
       " 0.672056914317356,\n",
       " 0.549613483551632,\n",
       " 0.836732579560406,\n",
       " 0.943206148117184)"
      ]
     },
     "execution_count": 14,
     "metadata": {},
     "output_type": "execute_result"
    }
   ],
   "source": [
    "#For crimes against persons\n",
    "b = 0.122188589\n",
    "B = 0.485336195\n",
    "table5_data(b, B, x0, a, n_iter, n, i)"
   ]
  },
  {
   "cell_type": "code",
   "execution_count": 15,
   "metadata": {},
   "outputs": [
    {
     "data": {
      "text/plain": [
       "(3.39656308704858,\n",
       " 0.772549607454558,\n",
       " 0.681069638119894,\n",
       " 0.960992771393007,\n",
       " 0.995982788180530)"
      ]
     },
     "execution_count": 15,
     "metadata": {},
     "output_type": "execute_result"
    }
   ],
   "source": [
    "#For crimes against property\n",
    "b = 0.056119613\n",
    "B = 0.659536879\n",
    "table5_data(b, B, x0, a, n_iter, n, i)"
   ]
  },
  {
   "cell_type": "code",
   "execution_count": 16,
   "metadata": {},
   "outputs": [
    {
     "name": "stdout",
     "output_type": "stream",
     "text": [
      "(2.62730630888538, 0.724313329274007, 0.702207089161669, 0.942119318348982, 0.988786535118392)\n",
      "(3.16942293249200, 0.760158655960019, 0.678186969654007, 0.954892547977184, 0.994432037640037)\n"
     ]
    }
   ],
   "source": [
    "#For the Seine Department\n",
    "   #With Gamma_{12,4} estimation from 1831 data:\n",
    "b = 0.098321539\n",
    "B = 0.651158024\n",
    "print(table5_data(b, B, x0, a, n_iter, n, i))\n",
    " \n",
    "   #With Gamma_{12,4} estimation from number of trials with conviction of 7 to 5/number of total trials from 1826 to 1830:\n",
    "b = 0.065474182\n",
    "print(table5_data(b, B, x0, a, n_iter, n, i))"
   ]
  },
  {
   "cell_type": "markdown",
   "metadata": {},
   "source": [
    "5. Checking the $t$, $\\mu$, $\\theta$, $p_{12,5}$ and $P_{12,5}$ values from the article ($b$ and $B$ taken from the article) "
   ]
  },
  {
   "cell_type": "code",
   "execution_count": 17,
   "metadata": {},
   "outputs": [
    {
     "name": "stdout",
     "output_type": "stream",
     "text": [
      "(2.99076463237663, 0.749421453751717, 0.639315024783906, 0.940668507571244, 0.991453476911543)\n",
      "(2.98173209986214, 0.748853018003239, 0.639623636712973, 0.940405044143609, 0.991351193685748)\n"
     ]
    }
   ],
   "source": [
    "#Overall\n",
    "   #With Gamma_{12,4} estimation from 1831 data:\n",
    "b = 0.070600173\n",
    "B = 0.609385343\n",
    "print(table5_data(b, B, x0, a, n_iter, n, i))\n",
    " \n",
    "   #With Gamma_{12,4} estimation from number of trials with conviction of 7 to 5/number of total trials from 1826 to 1830:\n",
    "b = 0.071080528\n",
    "print(table5_data(b, B, x0, a, n_iter, n, i))"
   ]
  },
  {
   "cell_type": "code",
   "execution_count": 18,
   "metadata": {},
   "outputs": [
    {
     "data": {
      "text/plain": [
       "(2.11199315983422,\n",
       " 0.678662532775852,\n",
       " 0.535319013023972,\n",
       " 0.837095768153116,\n",
       " 0.946384188986507)"
      ]
     },
     "execution_count": 18,
     "metadata": {},
     "output_type": "execute_result"
    }
   ],
   "source": [
    "#For crimes against persons\n",
    "b = 0.115065903\n",
    "B = 0.478213508\n",
    "table5_data(b, B, x0, a, n_iter, n, i)"
   ]
  },
  {
   "cell_type": "code",
   "execution_count": 19,
   "metadata": {},
   "outputs": [
    {
     "data": {
      "text/plain": [
       "(3.49107335059820,\n",
       " 0.777336079388059,\n",
       " 0.674911245085781,\n",
       " 0.961980735560679,\n",
       " 0.996358483699078)"
      ]
     },
     "execution_count": 19,
     "metadata": {},
     "output_type": "execute_result"
    }
   ],
   "source": [
    "#For crimes against property\n",
    "b = 0.052157469\n",
    "B = 0.655574735\n",
    "table5_data(b, B, x0, a, n_iter, n, i)"
   ]
  },
  {
   "cell_type": "code",
   "execution_count": 20,
   "metadata": {},
   "outputs": [
    {
     "name": "stdout",
     "output_type": "stream",
     "text": [
      "(2.63042494830770, 0.724550152051444, 0.701709316186402, 0.942118955542153, 0.988815757373725)\n",
      "(3.16893561424573, 0.760130620251633, 0.677918728151258, 0.954826327874835, 0.994421395442216)\n"
     ]
    }
   ],
   "source": [
    "#For the Seine Department\n",
    "   #With Gamma_{12,4} estimation from 1831 data:\n",
    "b = 0.098054726\n",
    "B = 0.650891211\n",
    "print(table5_data(b, B, x0, a, n_iter, n, i))\n",
    " \n",
    "   #With Gamma_{12,4} estimation from number of trials with conviction of 7 to 5/number of total trials from 1826 to 1830:\n",
    "b = 0.065474182\n",
    "print(table5_data(b, B, x0, a, n_iter, n, i))"
   ]
  }
 ],
 "metadata": {
  "kernelspec": {
   "display_name": "SageMath 9.2",
   "language": "sage",
   "name": "sagemath"
  },
  "language_info": {
   "codemirror_mode": {
    "name": "ipython",
    "version": 3
   },
   "file_extension": ".py",
   "mimetype": "text/x-python",
   "name": "python",
   "nbconvert_exporter": "python",
   "pygments_lexer": "ipython3",
   "version": "3.7.7"
  }
 },
 "nbformat": 4,
 "nbformat_minor": 4
}
