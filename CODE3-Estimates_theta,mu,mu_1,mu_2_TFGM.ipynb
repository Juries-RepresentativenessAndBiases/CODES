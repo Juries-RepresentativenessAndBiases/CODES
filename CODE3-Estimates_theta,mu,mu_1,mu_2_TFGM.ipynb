{
 "cells": [
  {
   "cell_type": "markdown",
   "metadata": {},
   "source": [
    "1. Declaring our sample (date)"
   ]
  },
  {
   "cell_type": "code",
   "execution_count": 1,
   "metadata": {},
   "outputs": [],
   "source": [
    "# Sample. The number of cases of 0,1-5,6,7-11 and 12 votes for aquittal.\n",
    "# Each tuple includes the assumed average number of votes for acquittal(1) and the number of cases that had that number of votes(2)\n",
    "# We assume the average number of votes for the ranges 1-5 and 7-11 is 3 and 9\n",
    "X = [(0,43),(3,105),(6,10),(9,41),(12,26)]\n",
    "N = 225\n",
    "\n",
    "M_1 = sum(X[i][0]*X[i][1] for i in range(0,5))/N\n",
    "m_2 = sum((X[i][0]-M_1)^2*X[i][1] for i in range(0,5))/N\n",
    "M_3 = sum(X[i][0]^3*X[i][1] for i in range(0,5))/N"
   ]
  },
  {
   "cell_type": "markdown",
   "metadata": {},
   "source": [
    "2. Method of moments"
   ]
  },
  {
   "cell_type": "code",
   "execution_count": 2,
   "metadata": {
    "scrolled": false
   },
   "outputs": [
    {
     "name": "stdout",
     "output_type": "stream",
     "text": [
      "    fjac: array([[-0.1734627 , -0.98484044],\n",
      "       [ 0.98484044, -0.1734627 ]])\n",
      "     fun: array([-2.50789611e-10, -1.86822113e-09])\n",
      " message: 'The solution converged.'\n",
      "    nfev: 8\n",
      "     qtf: array([-1.54729278e-07, -6.65242377e-09])\n",
      "       r: array([ 31.46956607, -47.83849925, -14.30108497])\n",
      "  status: 1\n",
      " success: True\n",
      "       x: array([0.73722516, 0.72950535])     fjac: array([[-1.17357606e-08,  6.64728875e-03, -9.99977907e-01],\n",
      "       [-6.35532459e-03,  9.99957712e-01,  6.64715458e-03],\n",
      "       [-9.99979805e-01, -6.35518426e-03, -4.22339424e-05]])\n",
      "     fun: array([  -2.08723089,  -13.01598355, -326.30773786])\n",
      " message: 'The iteration is not making good progress, as measured by the \\n  improvement from the last ten iterations.'\n",
      "    nfev: 25\n",
      "     qtf: array([326.21400762, -15.17118607,   2.18368897])\n",
      "       r: array([ 4.84854847e+10,  3.73591831e+11, -2.38533261e+10,  2.98808347e+04,\n",
      "        1.21207574e+03, -1.37409793e-02])\n",
      "  status: 5\n",
      " success: False\n",
      "       x: array([0.9379417 , 0.79046702, 0.33267887])\n"
     ]
    }
   ],
   "source": [
    "from scipy.optimize import root\n",
    "from scipy.optimize import least_squares\n",
    "\n",
    "n = 12\n",
    "var(\"th\", \"mu\", \"thh\", \"mu1\", \"mu2\")\n",
    "\n",
    "f1 = th*n*(1-mu) + (1-th)*n*mu - M_1\n",
    "f2 = n*( (mu*(1-mu)) + (th*(1-th)*n*(2*mu-1)) ) - m_2\n",
    "\n",
    "g1 = thh*n*(1-mu1) + (1-thh)*n*mu2 - M_1\n",
    "g2 = thh*n*(1-mu1)*mu1 + thh*n^2*(1-mu1)^2 + (1-thh)*n*mu2*(1-mu2) + (1-thh)*n^2*mu2^2 - thh^2*n^2*(1-mu1)^2 - (1-thh)^2*n^2*mu2^2 - 2*thh*(1-thh)*n^2*(1-mu1)*mu2 - m_2\n",
    "g3 = thh*(n*(1-mu1) + 3*n*(n-1)*(1-mu1)^2*mu1^2 + n*(n-1)*(n-2)*(1-mu1)^3) + (1-thh)*(n*mu2 + 3*n*(n-1)*mu2^2*(1-mu2)^2 + n*(n-1)*(n-2)*mu2^3) - M_3\n",
    "\n",
    "F = lambda vf: vector([f1.subs(th=vf[0], mu=vf[1]), f2.subs(th=vf[0], mu=vf[1])])\n",
    "G = lambda vg: vector([g1.subs(thh=vg[0], mu1=vg[1], mu2=vg[2]), g2.subs(thh=vg[0], mu1=vg[1], mu2=vg[2]), g3.subs(thh=vg[0], mu1=vg[1], mu2=vg[2])])\n",
    "\n",
    "vf0 = vector([0.75, 0.75])\n",
    "vg0 = vector([0.75, 0.8, 0.1])\n",
    "\n",
    "solf = root(F, vf0)\n",
    "solg = root(G, vg0)\n",
    "\n",
    "print(solf, solg)"
   ]
  },
  {
   "cell_type": "code",
   "execution_count": 3,
   "metadata": {},
   "outputs": [
    {
     "name": "stdout",
     "output_type": "stream",
     "text": [
      "    fjac: array([[-0.17266789, -0.9849801 ],\n",
      "       [ 0.9849801 , -0.17266789]])\n",
      "     fun: array([-4.38875603e-10, -3.43172468e-09])\n",
      " message: 'The solution converged.'\n",
      "    nfev: 9\n",
      "     qtf: array([2.25793895e-07, 1.05114203e-08])\n",
      "       r: array([ 32.06717379, -51.45869389, -14.42546996])\n",
      "  status: 1\n",
      " success: True\n",
      "       x: array([0.73722516, 0.72950535])     fjac: array([[-0.00364154, -0.03180878, -0.99948734],\n",
      "       [ 0.25277102, -0.96706537,  0.029856  ],\n",
      "       [ 0.96751928,  0.25253271, -0.01156194]])\n",
      "     fun: array([-1.27895472e-11, -2.30128805e-10, -3.19147375e-10])\n",
      " message: 'The solution converged.'\n",
      "    nfev: 88\n",
      "     qtf: array([-1.15187685e-07, -5.60622505e-08,  1.78066481e-08])\n",
      "       r: array([ 3.14736878e+03,  3.74685539e+02, -7.21460269e+02, -3.69549823e+01,\n",
      "        2.74636030e+00, -2.49665185e+00])\n",
      "  status: 1\n",
      " success: True\n",
      "       x: array([0.90486645, 0.70792718, 1.33311769])\n"
     ]
    }
   ],
   "source": [
    "vf0 = vector([0.7, 0.7])\n",
    "vg0 = vector([0.45, 0.7, 0.7])\n",
    "\n",
    "solf = root(F, vf0)\n",
    "solg = root(G, vg0)\n",
    "\n",
    "print(solf, solg)"
   ]
  },
  {
   "cell_type": "markdown",
   "metadata": {},
   "source": [
    "3. Maximum Likelihood Estimation method"
   ]
  },
  {
   "cell_type": "code",
   "execution_count": 4,
   "metadata": {},
   "outputs": [
    {
     "name": "stdout",
     "output_type": "stream",
     "text": [
      "Success: True\n",
      "Params: [0.78570868 0.76430702]\n",
      "Success: True\n",
      "Params: [0.79474869 0.7506057  0.79617205]\n"
     ]
    }
   ],
   "source": [
    "from scipy.optimize import differential_evolution\n",
    "\n",
    "def gamma2(n,i, th, mu):\n",
    "    return binomial(n,i)*(th*(mu^(n-i)*(1-mu)^i + (1-th)*(1-mu)^(n-i)*mu^i))\n",
    "\n",
    "def gamma3(n,i, thh, mu1, mu2):\n",
    "    return binomial(n,i)*(thh*(mu1^(n-i)*(1-mu1)^i + (1-thh)*(1-mu2)^(n-i)*mu2^i))\n",
    "\n",
    "# We omit the constant log(225!/(43!105!10!41!26!)) of the logarithm of the likelihood function because it does not change the minimum, yet it complicates the expression and is unnecessary.\n",
    "def neg_log_likelihood2(params2):\n",
    "    th, mu = params2\n",
    "    log_lik = X[0][1]*log(gamma2(12,0,th,mu)) + X[1][1]*(sum(log(gamma2(12,i,th,mu)) for i in range(1,6))) + X[2][1]*log(gamma2(12,6,th,mu)) + X[3][1]*(sum(log(gamma2(12,i,th,mu)) for i in range(7,12))) + X[4][1]*log(gamma2(12,12,th,mu))\n",
    "    return -log_lik  \n",
    "\n",
    "def neg_log_likelihood3(params3):\n",
    "    thh, mu1, mu2 = params3\n",
    "    log_lik = X[0][1]*log(gamma3(12,0,thh,mu1,mu2)) + X[1][1]*(sum(log(gamma3(12,i,thh,mu1,mu2)) for i in range(1,6))) + X[2][1]*log(gamma3(12,6,thh,mu1,mu2)) + X[3][1]*(sum(log(gamma3(12,i,thh,mu1,mu2)) for i in range(7,12))) + X[4][1]*log(gamma3(12,12,thh,mu1,mu2))\n",
    "    return -log_lik  \n",
    "\n",
    "\n",
    "bounds2 = [(0.5, 1.0), (0.5, 1.0)]\n",
    "bounds3 = [(0.5, 1.0), (0.5, 1.0), (0.5, 1.0)]\n",
    "\n",
    "result2 = differential_evolution(\n",
    "    neg_log_likelihood2,\n",
    "    bounds2,\n",
    "    tol=1e-10,\n",
    "    strategy='best1bin',\n",
    "    polish=True,\n",
    "    updating='deferred',\n",
    "    seed=42\n",
    ")\n",
    "\n",
    "result3 = differential_evolution(\n",
    "    neg_log_likelihood3,\n",
    "    bounds3,\n",
    "    tol=1e-10,\n",
    "    strategy='best1bin',\n",
    "    polish=True,\n",
    "    updating='deferred',\n",
    "    seed=42\n",
    ")\n",
    "\n",
    "print(\"Success:\", result2.success)\n",
    "print(\"Params:\", result2.x)\n",
    "\n",
    "print(\"Success:\", result3.success)\n",
    "print(\"Params:\", result3.x)"
   ]
  },
  {
   "cell_type": "markdown",
   "metadata": {},
   "source": [
    "4. Minimum chi^2 method"
   ]
  },
  {
   "cell_type": "code",
   "execution_count": 5,
   "metadata": {
    "scrolled": false
   },
   "outputs": [
    {
     "name": "stdout",
     "output_type": "stream",
     "text": [
      "Success: True\n",
      "Params: [0.65639282 0.83971256]\n",
      "Success: True\n",
      "Params: [0.73096942 0.820267   0.92408853]\n"
     ]
    }
   ],
   "source": [
    "from scipy.optimize import differential_evolution\n",
    "\n",
    "def gamma2(n,i, th, mu):\n",
    "    return binomial(n,i)*(th*(mu^(n-i)*(1-mu)^i + (1-th)*(1-mu)^(n-i)*mu^i))\n",
    "\n",
    "def gamma3(n,i, thh, mu1, mu2):\n",
    "    return binomial(n,i)*(thh*(mu1^(n-i)*(1-mu1)^i + (1-thh)*(1-mu2)^(n-i)*mu2^i))\n",
    "\n",
    "def chi2_2(params2):\n",
    "    th, mu = params2\n",
    "    p0 = gamma2(12,0, th, mu)\n",
    "    p1 = sum(gamma2(12,i, th, mu) for i in range(1,6))\n",
    "    p2 = gamma2(12,6, th, mu)\n",
    "    p3 = sum(gamma2(12,i, th, mu) for i in range(7,12))\n",
    "    p4 = gamma2(12,12, th, mu)\n",
    "    chi2 = (X[0][1]/N - p0)^2/p0 + (X[1][1]/N - p1)^2/p1 + (X[2][1]/N - p2)^2/p2 + (X[3][1]/N - p3)^2/p3 + (X[4][1]/N - p4)^2/p4\n",
    "    return chi2\n",
    "\n",
    "def chi2_3(params3):\n",
    "    thh, mu1, mu2 = params3\n",
    "    p03 = gamma3(12,0, thh, mu1, mu2)\n",
    "    p13 = sum(gamma3(12,i, thh, mu1, mu2) for i in range(1,6))\n",
    "    p23 = gamma3(12,6, thh, mu1, mu2)\n",
    "    p33 = sum(gamma3(12,i, thh, mu1, mu2) for i in range(7,12))\n",
    "    p43 = gamma3(12,12, thh, mu1, mu2)\n",
    "    chi2 = (X[0][1]/N - p03)^2/p03 + (X[1][1]/N - p13)^2/p13 + (X[2][1]/N - p23)^2/p23 + (X[3][1]/N - p33)^2/p33 + (X[4][1]/N - p43)^2/p43\n",
    "    return chi2  \n",
    "\n",
    "\n",
    "bounds2 = [(0.5, 1.0), (0.5, 1.0)]\n",
    "bounds3 = [(0.5, 1.0), (0.5, 1.0), (0.5, 1.0)]\n",
    "\n",
    "result2 = differential_evolution(\n",
    "    chi2_2,\n",
    "    bounds2,\n",
    "    tol=1e-12,\n",
    "    strategy='best1bin',\n",
    "    polish=True,\n",
    "    updating='deferred',\n",
    "    seed=42\n",
    ")\n",
    "\n",
    "result3 = differential_evolution(\n",
    "    chi2_3,\n",
    "    bounds3,\n",
    "    tol=1e-12,\n",
    "    strategy='best1bin',\n",
    "    polish=True,\n",
    "    updating='deferred',\n",
    "    seed=42\n",
    ")\n",
    "\n",
    "print(\"Success:\", result2.success)\n",
    "print(\"Params:\", result2.x)\n",
    "\n",
    "print(\"Success:\", result3.success)\n",
    "print(\"Params:\", result3.x)"
   ]
  },
  {
   "cell_type": "markdown",
   "metadata": {},
   "source": [
    "5. Likelihood of observing the sample with both models"
   ]
  },
  {
   "cell_type": "code",
   "execution_count": 6,
   "metadata": {},
   "outputs": [
    {
     "name": "stdout",
     "output_type": "stream",
     "text": [
      "1.46504404761071e-66 7.78665647243216e-53\n"
     ]
    }
   ],
   "source": [
    "th = 0.78570868\n",
    "mu = 0.76430702\n",
    "thh = 0.79474869\n",
    "mu1 = 0.7506057\n",
    "mu2 = 0.79617205\n",
    "\n",
    "p0 = gamma2(12,0, th, mu)\n",
    "p1 = sum(gamma2(12,i, th, mu) for i in range(1,6))\n",
    "p2 = gamma2(12,6, th, mu)\n",
    "p3 = sum(gamma2(12,i, th, mu) for i in range(7,12))\n",
    "p4 = gamma2(12,12, th, mu)\n",
    "\n",
    "p03 = gamma3(12,0, thh, mu1, mu2)\n",
    "p13 = sum(gamma3(12,i, thh, mu1, mu2) for i in range(1,6))\n",
    "p23 = gamma3(12,6, thh, mu1, mu2)\n",
    "p33 = sum(gamma3(12,i, thh, mu1, mu2) for i in range(7,12))\n",
    "p43 = gamma3(12,12, thh, mu1, mu2)\n",
    "\n",
    "C = factorial(N)/(factorial(X[0][1])*factorial(X[1][1])*factorial(X[2][1])*factorial(X[3][1])*factorial(X[4][1]))\n",
    "L_2 = C*p0**X[0][1]*p1**X[1][1]*p0**X[2][1]*p0**X[3][1]*p0**X[4][1]\n",
    "L_3 = C*p03**X[0][1]*p13**X[1][1]*p23**X[2][1]*p33**X[3][1]*p43**X[4][1]\n",
    "\n",
    "print(L_2, L_3)"
   ]
  },
  {
   "cell_type": "markdown",
   "metadata": {},
   "source": [
    "6. AIC and BIC criteria"
   ]
  },
  {
   "cell_type": "code",
   "execution_count": 7,
   "metadata": {},
   "outputs": [
    {
     "name": "stdout",
     "output_type": "stream",
     "text": [
      "307.177461657923 245.969196737169\n",
      "314.009662462332 256.217497943782\n"
     ]
    }
   ],
   "source": [
    "AIC_2 = -2*log(L_2) + 2*2\n",
    "AIC_3 = -2*log(L_3) + 2*3\n",
    "\n",
    "BIC_2 = -2*log(L_2) + log(225)*2\n",
    "BIC_3 = -2*log(L_3) + log(225)*3\n",
    "\n",
    "print(AIC_2, AIC_3)\n",
    "print(BIC_2.n(), BIC_3.n())"
   ]
  }
 ],
 "metadata": {
  "kernelspec": {
   "display_name": "SageMath 9.2",
   "language": "sage",
   "name": "sagemath"
  },
  "language_info": {
   "codemirror_mode": {
    "name": "ipython",
    "version": 3
   },
   "file_extension": ".py",
   "mimetype": "text/x-python",
   "name": "python",
   "nbconvert_exporter": "python",
   "pygments_lexer": "ipython3",
   "version": "3.7.7"
  }
 },
 "nbformat": 4,
 "nbformat_minor": 4
}
